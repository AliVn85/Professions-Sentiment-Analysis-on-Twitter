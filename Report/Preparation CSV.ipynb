{
 "cells": [
  {
   "cell_type": "markdown",
   "id": "59b6c103",
   "metadata": {},
   "source": [
    "# Initial data preparation\n",
    "This is done in order to speed up the visualization and processes"
   ]
  },
  {
   "cell_type": "code",
   "execution_count": 2,
   "id": "15af5e65",
   "metadata": {},
   "outputs": [],
   "source": [
    "import sqlite3\n",
    "import pandas as pd\n",
    "\n",
    "# For faster data access, we converted a query to a CSV one time to use it multiple times quickly\n",
    "sqliteConnection = sqlite3.connect(\"../database.db\")\n",
    "cursor  = sqliteConnection.cursor()\n",
    "sqlite_select_Query = \"SELECT count(*) FROM sqlite_master WHERE type='table' AND name='Tweets'\"\n",
    "cursor.execute(sqlite_select_Query)\n",
    "\n",
    "for row in cursor:\n",
    "\tif(row[0]==0):\n",
    "\t\traise Exception(\"Sorry, Path to the desired DB is not correct!\")\n",
    "\n",
    "query = \"SELECT Tweets.job_id, Tweets.job_title, Tweets.createdAt, Locations.location_name,\\\n",
    "                Locations.location_country, Locations.location_bbox, SentimentsPipe.class, SentimentsPipe.positive_sent,\\\n",
    "                SentimentsPipe.negative_sent, SentimentsPipe.neutral_sent, Locations.tweet_id\\\n",
    "                FROM Locations\\\n",
    "                INNER JOIN SentimentsPipe on Locations.tweet_id = SentimentsPipe.tweet_id\\\n",
    "                INNER JOIN Tweets on Locations.tweet_id = Tweets.tweet_id\"\n",
    "\n",
    "df = pd.read_sql(query, sqliteConnection)\n",
    "df.to_csv('withLocation.csv')\n",
    "  \n",
    "cursor.close()\n",
    "sqliteConnection.close()"
   ]
  }
 ],
 "metadata": {
  "kernelspec": {
   "display_name": "Python 3 (ipykernel)",
   "language": "python",
   "name": "python3"
  },
  "language_info": {
   "codemirror_mode": {
    "name": "ipython",
    "version": 3
   },
   "file_extension": ".py",
   "mimetype": "text/x-python",
   "name": "python",
   "nbconvert_exporter": "python",
   "pygments_lexer": "ipython3",
   "version": "3.10.6"
  }
 },
 "nbformat": 4,
 "nbformat_minor": 5
}
